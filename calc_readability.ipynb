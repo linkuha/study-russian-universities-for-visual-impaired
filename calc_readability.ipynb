{
  "nbformat": 4,
  "nbformat_minor": 0,
  "metadata": {
    "colab": {
      "name": "calc_readability.ipynb",
      "provenance": []
    },
    "kernelspec": {
      "name": "python3",
      "display_name": "Python 3"
    },
    "language_info": {
      "name": "python"
    }
  },
  "cells": [
    {
      "cell_type": "code",
      "source": [
        "pip install syllables"
      ],
      "metadata": {
        "colab": {
          "base_uri": "https://localhost:8080/"
        },
        "id": "jid5GFAYE8UQ",
        "outputId": "3d6467f6-bc8e-4f6a-dd91-9f4f0aec507b"
      },
      "execution_count": 1,
      "outputs": [
        {
          "output_type": "stream",
          "name": "stdout",
          "text": [
            "Collecting syllables\n",
            "  Downloading syllables-1.0.3-py2.py3-none-any.whl (15 kB)\n",
            "Installing collected packages: syllables\n",
            "Successfully installed syllables-1.0.3\n"
          ]
        }
      ]
    },
    {
      "cell_type": "code",
      "source": [
        "import syllables as syllables_lib\n",
        "\n",
        "print(syllables_lib.estimate('testing task'))\n",
        "print(syllables_lib.estimate('announcement'))\n",
        "print(syllables_lib.estimate('columbia'))\n",
        "print(syllables_lib.estimate('tried'))\n",
        "print(syllables_lib.estimate('course'))\n",
        "print(syllables_lib.estimate('hairy'))\n",
        "print(syllables_lib.estimate('Siberia'))\n",
        "print(syllables_lib.estimate('тестовое задание'))"
      ],
      "metadata": {
        "colab": {
          "base_uri": "https://localhost:8080/"
        },
        "id": "9Wr-l-_KKe-W",
        "outputId": "eecddb46-4870-4931-c117-5ac7be56a236"
      },
      "execution_count": 2,
      "outputs": [
        {
          "output_type": "stream",
          "name": "stdout",
          "text": [
            "3\n",
            "4\n",
            "3\n",
            "1\n",
            "2\n",
            "2\n",
            "3\n",
            "1\n"
          ]
        }
      ]
    },
    {
      "cell_type": "code",
      "source": [
        "# test split\n",
        "testText = 'Love   thy neighbor'\n",
        "print(testText.split())"
      ],
      "metadata": {
        "colab": {
          "base_uri": "https://localhost:8080/"
        },
        "id": "aopOhpvYOc-O",
        "outputId": "49d7113a-c293-4228-d3dd-88682f55473f"
      },
      "execution_count": 3,
      "outputs": [
        {
          "output_type": "stream",
          "name": "stdout",
          "text": [
            "['Love', 'thy', 'neighbor']\n"
          ]
        }
      ]
    },
    {
      "cell_type": "code",
      "source": [
        "pip install spacy_syllables"
      ],
      "metadata": {
        "colab": {
          "base_uri": "https://localhost:8080/"
        },
        "id": "DLap8CsNhPjy",
        "outputId": "0a2d5369-27aa-493e-d0d8-65971930c534"
      },
      "execution_count": 4,
      "outputs": [
        {
          "output_type": "stream",
          "name": "stdout",
          "text": [
            "Collecting spacy_syllables\n",
            "  Downloading spacy_syllables-3.0.1-py3-none-any.whl (6.6 kB)\n",
            "Collecting spacy<4.0.0,>=3.0.3\n",
            "  Downloading spacy-3.2.1-cp37-cp37m-manylinux_2_17_x86_64.manylinux2014_x86_64.whl (6.0 MB)\n",
            "\u001b[K     |████████████████████████████████| 6.0 MB 5.3 MB/s \n",
            "\u001b[?25hCollecting pyphen<0.11.0,>=0.10.0\n",
            "  Downloading Pyphen-0.10.0-py3-none-any.whl (1.9 MB)\n",
            "\u001b[K     |████████████████████████████████| 1.9 MB 53.8 MB/s \n",
            "\u001b[?25hRequirement already satisfied: typing-extensions<4.0.0.0,>=3.7.4 in /usr/local/lib/python3.7/dist-packages (from spacy<4.0.0,>=3.0.3->spacy_syllables) (3.10.0.2)\n",
            "Collecting catalogue<2.1.0,>=2.0.6\n",
            "  Downloading catalogue-2.0.6-py3-none-any.whl (17 kB)\n",
            "Requirement already satisfied: requests<3.0.0,>=2.13.0 in /usr/local/lib/python3.7/dist-packages (from spacy<4.0.0,>=3.0.3->spacy_syllables) (2.23.0)\n",
            "Requirement already satisfied: preshed<3.1.0,>=3.0.2 in /usr/local/lib/python3.7/dist-packages (from spacy<4.0.0,>=3.0.3->spacy_syllables) (3.0.6)\n",
            "Requirement already satisfied: setuptools in /usr/local/lib/python3.7/dist-packages (from spacy<4.0.0,>=3.0.3->spacy_syllables) (57.4.0)\n",
            "Collecting spacy-legacy<3.1.0,>=3.0.8\n",
            "  Downloading spacy_legacy-3.0.8-py2.py3-none-any.whl (14 kB)\n",
            "Requirement already satisfied: numpy>=1.15.0 in /usr/local/lib/python3.7/dist-packages (from spacy<4.0.0,>=3.0.3->spacy_syllables) (1.19.5)\n",
            "Collecting pydantic!=1.8,!=1.8.1,<1.9.0,>=1.7.4\n",
            "  Downloading pydantic-1.8.2-cp37-cp37m-manylinux2014_x86_64.whl (10.1 MB)\n",
            "\u001b[K     |████████████████████████████████| 10.1 MB 65.6 MB/s \n",
            "\u001b[?25hRequirement already satisfied: blis<0.8.0,>=0.4.0 in /usr/local/lib/python3.7/dist-packages (from spacy<4.0.0,>=3.0.3->spacy_syllables) (0.4.1)\n",
            "Requirement already satisfied: jinja2 in /usr/local/lib/python3.7/dist-packages (from spacy<4.0.0,>=3.0.3->spacy_syllables) (2.11.3)\n",
            "Collecting pathy>=0.3.5\n",
            "  Downloading pathy-0.6.1-py3-none-any.whl (42 kB)\n",
            "\u001b[K     |████████████████████████████████| 42 kB 1.9 MB/s \n",
            "\u001b[?25hRequirement already satisfied: murmurhash<1.1.0,>=0.28.0 in /usr/local/lib/python3.7/dist-packages (from spacy<4.0.0,>=3.0.3->spacy_syllables) (1.0.6)\n",
            "Collecting typer<0.5.0,>=0.3.0\n",
            "  Downloading typer-0.4.0-py3-none-any.whl (27 kB)\n",
            "Collecting srsly<3.0.0,>=2.4.1\n",
            "  Downloading srsly-2.4.2-cp37-cp37m-manylinux_2_17_x86_64.manylinux2014_x86_64.whl (451 kB)\n",
            "\u001b[K     |████████████████████████████████| 451 kB 55.3 MB/s \n",
            "\u001b[?25hRequirement already satisfied: cymem<2.1.0,>=2.0.2 in /usr/local/lib/python3.7/dist-packages (from spacy<4.0.0,>=3.0.3->spacy_syllables) (2.0.6)\n",
            "Requirement already satisfied: packaging>=20.0 in /usr/local/lib/python3.7/dist-packages (from spacy<4.0.0,>=3.0.3->spacy_syllables) (21.3)\n",
            "Collecting langcodes<4.0.0,>=3.2.0\n",
            "  Downloading langcodes-3.3.0-py3-none-any.whl (181 kB)\n",
            "\u001b[K     |████████████████████████████████| 181 kB 59.2 MB/s \n",
            "\u001b[?25hRequirement already satisfied: wasabi<1.1.0,>=0.8.1 in /usr/local/lib/python3.7/dist-packages (from spacy<4.0.0,>=3.0.3->spacy_syllables) (0.9.0)\n",
            "Collecting spacy-loggers<2.0.0,>=1.0.0\n",
            "  Downloading spacy_loggers-1.0.1-py3-none-any.whl (7.0 kB)\n",
            "Requirement already satisfied: tqdm<5.0.0,>=4.38.0 in /usr/local/lib/python3.7/dist-packages (from spacy<4.0.0,>=3.0.3->spacy_syllables) (4.62.3)\n",
            "Collecting thinc<8.1.0,>=8.0.12\n",
            "  Downloading thinc-8.0.13-cp37-cp37m-manylinux_2_17_x86_64.manylinux2014_x86_64.whl (628 kB)\n",
            "\u001b[K     |████████████████████████████████| 628 kB 71.4 MB/s \n",
            "\u001b[?25hRequirement already satisfied: zipp>=0.5 in /usr/local/lib/python3.7/dist-packages (from catalogue<2.1.0,>=2.0.6->spacy<4.0.0,>=3.0.3->spacy_syllables) (3.7.0)\n",
            "Requirement already satisfied: pyparsing!=3.0.5,>=2.0.2 in /usr/local/lib/python3.7/dist-packages (from packaging>=20.0->spacy<4.0.0,>=3.0.3->spacy_syllables) (3.0.6)\n",
            "Requirement already satisfied: smart-open<6.0.0,>=5.0.0 in /usr/local/lib/python3.7/dist-packages (from pathy>=0.3.5->spacy<4.0.0,>=3.0.3->spacy_syllables) (5.2.1)\n",
            "Requirement already satisfied: certifi>=2017.4.17 in /usr/local/lib/python3.7/dist-packages (from requests<3.0.0,>=2.13.0->spacy<4.0.0,>=3.0.3->spacy_syllables) (2021.10.8)\n",
            "Requirement already satisfied: chardet<4,>=3.0.2 in /usr/local/lib/python3.7/dist-packages (from requests<3.0.0,>=2.13.0->spacy<4.0.0,>=3.0.3->spacy_syllables) (3.0.4)\n",
            "Requirement already satisfied: idna<3,>=2.5 in /usr/local/lib/python3.7/dist-packages (from requests<3.0.0,>=2.13.0->spacy<4.0.0,>=3.0.3->spacy_syllables) (2.10)\n",
            "Requirement already satisfied: urllib3!=1.25.0,!=1.25.1,<1.26,>=1.21.1 in /usr/local/lib/python3.7/dist-packages (from requests<3.0.0,>=2.13.0->spacy<4.0.0,>=3.0.3->spacy_syllables) (1.24.3)\n",
            "Requirement already satisfied: click<9.0.0,>=7.1.1 in /usr/local/lib/python3.7/dist-packages (from typer<0.5.0,>=0.3.0->spacy<4.0.0,>=3.0.3->spacy_syllables) (7.1.2)\n",
            "Requirement already satisfied: MarkupSafe>=0.23 in /usr/local/lib/python3.7/dist-packages (from jinja2->spacy<4.0.0,>=3.0.3->spacy_syllables) (2.0.1)\n",
            "Installing collected packages: catalogue, typer, srsly, pydantic, thinc, spacy-loggers, spacy-legacy, pathy, langcodes, spacy, pyphen, spacy-syllables\n",
            "  Attempting uninstall: catalogue\n",
            "    Found existing installation: catalogue 1.0.0\n",
            "    Uninstalling catalogue-1.0.0:\n",
            "      Successfully uninstalled catalogue-1.0.0\n",
            "  Attempting uninstall: srsly\n",
            "    Found existing installation: srsly 1.0.5\n",
            "    Uninstalling srsly-1.0.5:\n",
            "      Successfully uninstalled srsly-1.0.5\n",
            "  Attempting uninstall: thinc\n",
            "    Found existing installation: thinc 7.4.0\n",
            "    Uninstalling thinc-7.4.0:\n",
            "      Successfully uninstalled thinc-7.4.0\n",
            "  Attempting uninstall: spacy\n",
            "    Found existing installation: spacy 2.2.4\n",
            "    Uninstalling spacy-2.2.4:\n",
            "      Successfully uninstalled spacy-2.2.4\n",
            "Successfully installed catalogue-2.0.6 langcodes-3.3.0 pathy-0.6.1 pydantic-1.8.2 pyphen-0.10.0 spacy-3.2.1 spacy-legacy-3.0.8 spacy-loggers-1.0.1 spacy-syllables-3.0.1 srsly-2.4.2 thinc-8.0.13 typer-0.4.0\n"
          ]
        }
      ]
    },
    {
      "cell_type": "code",
      "source": [
        "# import spacy\n",
        "# from spacy_syllables import SpacySyllables\n",
        "\n",
        "# nlp = spacy.load(\"en_core_web_sm\")\n",
        "\n",
        "# syllables = SpacySyllables(nlp, \"en_US\")\n",
        "# nlp.add_pipe(\"syllables\", after=\"tagger\")\n",
        "\n",
        "# assert nlp.pipe_names == [\"tok2vec\", \"tagger\", \"syllables\", \"parser\", \"ner\", \"attribute_ruler\", \"lemmatizer\"]\n",
        "\n",
        "# doc = nlp(\"terribly long\")\n",
        "\n",
        "# data = [(token.text, token._.syllables, token._.syllables_count) for token in doc]\n",
        "\n",
        "# assert data == [(\"terribly\", [\"ter\", \"ri\", \"bly\"], 3), (\"long\", [\"long\"], 1)]"
      ],
      "metadata": {
        "colab": {
          "base_uri": "https://localhost:8080/",
          "height": 435
        },
        "id": "gbum8cAyhcls",
        "outputId": "465b23ad-0fea-4e96-d234-1d9c6203f192"
      },
      "execution_count": null,
      "outputs": [
        {
          "output_type": "stream",
          "name": "stderr",
          "text": [
            "/usr/local/lib/python3.7/dist-packages/spacy/util.py:841: UserWarning: [W094] Model 'en_core_web_sm' (2.2.5) specifies an under-constrained spaCy version requirement: >=2.2.2. This can lead to compatibility problems with older versions, or as new spaCy versions are released, because the model may say it's compatible when it's not. Consider changing the \"spacy_version\" in your meta.json to a version range, with a lower and upper pin. For example: >=3.2.1,<3.3.0\n",
            "  warnings.warn(warn_msg)\n"
          ]
        },
        {
          "output_type": "error",
          "ename": "OSError",
          "evalue": "ignored",
          "traceback": [
            "\u001b[0;31m---------------------------------------------------------------------------\u001b[0m",
            "\u001b[0;31mOSError\u001b[0m                                   Traceback (most recent call last)",
            "\u001b[0;32m<ipython-input-50-bc5ca22a4093>\u001b[0m in \u001b[0;36m<module>\u001b[0;34m()\u001b[0m\n\u001b[1;32m      2\u001b[0m \u001b[0;32mfrom\u001b[0m \u001b[0mspacy_syllables\u001b[0m \u001b[0;32mimport\u001b[0m \u001b[0mSpacySyllables\u001b[0m\u001b[0;34m\u001b[0m\u001b[0;34m\u001b[0m\u001b[0m\n\u001b[1;32m      3\u001b[0m \u001b[0;34m\u001b[0m\u001b[0m\n\u001b[0;32m----> 4\u001b[0;31m \u001b[0mnlp\u001b[0m \u001b[0;34m=\u001b[0m \u001b[0mspacy\u001b[0m\u001b[0;34m.\u001b[0m\u001b[0mload\u001b[0m\u001b[0;34m(\u001b[0m\u001b[0;34m\"en_core_web_sm\"\u001b[0m\u001b[0;34m)\u001b[0m\u001b[0;34m\u001b[0m\u001b[0;34m\u001b[0m\u001b[0m\n\u001b[0m\u001b[1;32m      5\u001b[0m \u001b[0;34m\u001b[0m\u001b[0m\n\u001b[1;32m      6\u001b[0m \u001b[0msyllables\u001b[0m \u001b[0;34m=\u001b[0m \u001b[0mSpacySyllables\u001b[0m\u001b[0;34m(\u001b[0m\u001b[0mnlp\u001b[0m\u001b[0;34m,\u001b[0m \u001b[0;34m\"en_US\"\u001b[0m\u001b[0;34m)\u001b[0m\u001b[0;34m\u001b[0m\u001b[0;34m\u001b[0m\u001b[0m\n",
            "\u001b[0;32m/usr/local/lib/python3.7/dist-packages/spacy/__init__.py\u001b[0m in \u001b[0;36mload\u001b[0;34m(name, vocab, disable, exclude, config)\u001b[0m\n\u001b[1;32m     50\u001b[0m     \"\"\"\n\u001b[1;32m     51\u001b[0m     return util.load_model(\n\u001b[0;32m---> 52\u001b[0;31m         \u001b[0mname\u001b[0m\u001b[0;34m,\u001b[0m \u001b[0mvocab\u001b[0m\u001b[0;34m=\u001b[0m\u001b[0mvocab\u001b[0m\u001b[0;34m,\u001b[0m \u001b[0mdisable\u001b[0m\u001b[0;34m=\u001b[0m\u001b[0mdisable\u001b[0m\u001b[0;34m,\u001b[0m \u001b[0mexclude\u001b[0m\u001b[0;34m=\u001b[0m\u001b[0mexclude\u001b[0m\u001b[0;34m,\u001b[0m \u001b[0mconfig\u001b[0m\u001b[0;34m=\u001b[0m\u001b[0mconfig\u001b[0m\u001b[0;34m\u001b[0m\u001b[0;34m\u001b[0m\u001b[0m\n\u001b[0m\u001b[1;32m     53\u001b[0m     )\n\u001b[1;32m     54\u001b[0m \u001b[0;34m\u001b[0m\u001b[0m\n",
            "\u001b[0;32m/usr/local/lib/python3.7/dist-packages/spacy/util.py\u001b[0m in \u001b[0;36mload_model\u001b[0;34m(name, vocab, disable, exclude, config)\u001b[0m\n\u001b[1;32m    418\u001b[0m             \u001b[0;32mreturn\u001b[0m \u001b[0mget_lang_class\u001b[0m\u001b[0;34m(\u001b[0m\u001b[0mname\u001b[0m\u001b[0;34m.\u001b[0m\u001b[0mreplace\u001b[0m\u001b[0;34m(\u001b[0m\u001b[0;34m\"blank:\"\u001b[0m\u001b[0;34m,\u001b[0m \u001b[0;34m\"\"\u001b[0m\u001b[0;34m)\u001b[0m\u001b[0;34m)\u001b[0m\u001b[0;34m(\u001b[0m\u001b[0;34m)\u001b[0m\u001b[0;34m\u001b[0m\u001b[0;34m\u001b[0m\u001b[0m\n\u001b[1;32m    419\u001b[0m         \u001b[0;32mif\u001b[0m \u001b[0mis_package\u001b[0m\u001b[0;34m(\u001b[0m\u001b[0mname\u001b[0m\u001b[0;34m)\u001b[0m\u001b[0;34m:\u001b[0m  \u001b[0;31m# installed as package\u001b[0m\u001b[0;34m\u001b[0m\u001b[0;34m\u001b[0m\u001b[0m\n\u001b[0;32m--> 420\u001b[0;31m             \u001b[0;32mreturn\u001b[0m \u001b[0mload_model_from_package\u001b[0m\u001b[0;34m(\u001b[0m\u001b[0mname\u001b[0m\u001b[0;34m,\u001b[0m \u001b[0;34m**\u001b[0m\u001b[0mkwargs\u001b[0m\u001b[0;34m)\u001b[0m  \u001b[0;31m# type: ignore[arg-type]\u001b[0m\u001b[0;34m\u001b[0m\u001b[0;34m\u001b[0m\u001b[0m\n\u001b[0m\u001b[1;32m    421\u001b[0m         \u001b[0;32mif\u001b[0m \u001b[0mPath\u001b[0m\u001b[0;34m(\u001b[0m\u001b[0mname\u001b[0m\u001b[0;34m)\u001b[0m\u001b[0;34m.\u001b[0m\u001b[0mexists\u001b[0m\u001b[0;34m(\u001b[0m\u001b[0;34m)\u001b[0m\u001b[0;34m:\u001b[0m  \u001b[0;31m# path to model data directory\u001b[0m\u001b[0;34m\u001b[0m\u001b[0;34m\u001b[0m\u001b[0m\n\u001b[1;32m    422\u001b[0m             \u001b[0;32mreturn\u001b[0m \u001b[0mload_model_from_path\u001b[0m\u001b[0;34m(\u001b[0m\u001b[0mPath\u001b[0m\u001b[0;34m(\u001b[0m\u001b[0mname\u001b[0m\u001b[0;34m)\u001b[0m\u001b[0;34m,\u001b[0m \u001b[0;34m**\u001b[0m\u001b[0mkwargs\u001b[0m\u001b[0;34m)\u001b[0m  \u001b[0;31m# type: ignore[arg-type]\u001b[0m\u001b[0;34m\u001b[0m\u001b[0;34m\u001b[0m\u001b[0m\n",
            "\u001b[0;32m/usr/local/lib/python3.7/dist-packages/spacy/util.py\u001b[0m in \u001b[0;36mload_model_from_package\u001b[0;34m(name, vocab, disable, exclude, config)\u001b[0m\n\u001b[1;32m    451\u001b[0m     \"\"\"\n\u001b[1;32m    452\u001b[0m     \u001b[0mcls\u001b[0m \u001b[0;34m=\u001b[0m \u001b[0mimportlib\u001b[0m\u001b[0;34m.\u001b[0m\u001b[0mimport_module\u001b[0m\u001b[0;34m(\u001b[0m\u001b[0mname\u001b[0m\u001b[0;34m)\u001b[0m\u001b[0;34m\u001b[0m\u001b[0;34m\u001b[0m\u001b[0m\n\u001b[0;32m--> 453\u001b[0;31m     \u001b[0;32mreturn\u001b[0m \u001b[0mcls\u001b[0m\u001b[0;34m.\u001b[0m\u001b[0mload\u001b[0m\u001b[0;34m(\u001b[0m\u001b[0mvocab\u001b[0m\u001b[0;34m=\u001b[0m\u001b[0mvocab\u001b[0m\u001b[0;34m,\u001b[0m \u001b[0mdisable\u001b[0m\u001b[0;34m=\u001b[0m\u001b[0mdisable\u001b[0m\u001b[0;34m,\u001b[0m \u001b[0mexclude\u001b[0m\u001b[0;34m=\u001b[0m\u001b[0mexclude\u001b[0m\u001b[0;34m,\u001b[0m \u001b[0mconfig\u001b[0m\u001b[0;34m=\u001b[0m\u001b[0mconfig\u001b[0m\u001b[0;34m)\u001b[0m  \u001b[0;31m# type: ignore[attr-defined]\u001b[0m\u001b[0;34m\u001b[0m\u001b[0;34m\u001b[0m\u001b[0m\n\u001b[0m\u001b[1;32m    454\u001b[0m \u001b[0;34m\u001b[0m\u001b[0m\n\u001b[1;32m    455\u001b[0m \u001b[0;34m\u001b[0m\u001b[0m\n",
            "\u001b[0;32m/usr/local/lib/python3.7/dist-packages/en_core_web_sm/__init__.py\u001b[0m in \u001b[0;36mload\u001b[0;34m(**overrides)\u001b[0m\n\u001b[1;32m     10\u001b[0m \u001b[0;34m\u001b[0m\u001b[0m\n\u001b[1;32m     11\u001b[0m \u001b[0;32mdef\u001b[0m \u001b[0mload\u001b[0m\u001b[0;34m(\u001b[0m\u001b[0;34m**\u001b[0m\u001b[0moverrides\u001b[0m\u001b[0;34m)\u001b[0m\u001b[0;34m:\u001b[0m\u001b[0;34m\u001b[0m\u001b[0;34m\u001b[0m\u001b[0m\n\u001b[0;32m---> 12\u001b[0;31m     \u001b[0;32mreturn\u001b[0m \u001b[0mload_model_from_init_py\u001b[0m\u001b[0;34m(\u001b[0m\u001b[0m__file__\u001b[0m\u001b[0;34m,\u001b[0m \u001b[0;34m**\u001b[0m\u001b[0moverrides\u001b[0m\u001b[0;34m)\u001b[0m\u001b[0;34m\u001b[0m\u001b[0;34m\u001b[0m\u001b[0m\n\u001b[0m",
            "\u001b[0;32m/usr/local/lib/python3.7/dist-packages/spacy/util.py\u001b[0m in \u001b[0;36mload_model_from_init_py\u001b[0;34m(init_file, vocab, disable, exclude, config)\u001b[0m\n\u001b[1;32m    619\u001b[0m         \u001b[0mdisable\u001b[0m\u001b[0;34m=\u001b[0m\u001b[0mdisable\u001b[0m\u001b[0;34m,\u001b[0m\u001b[0;34m\u001b[0m\u001b[0;34m\u001b[0m\u001b[0m\n\u001b[1;32m    620\u001b[0m         \u001b[0mexclude\u001b[0m\u001b[0;34m=\u001b[0m\u001b[0mexclude\u001b[0m\u001b[0;34m,\u001b[0m\u001b[0;34m\u001b[0m\u001b[0;34m\u001b[0m\u001b[0m\n\u001b[0;32m--> 621\u001b[0;31m         \u001b[0mconfig\u001b[0m\u001b[0;34m=\u001b[0m\u001b[0mconfig\u001b[0m\u001b[0;34m,\u001b[0m\u001b[0;34m\u001b[0m\u001b[0;34m\u001b[0m\u001b[0m\n\u001b[0m\u001b[1;32m    622\u001b[0m     )\n\u001b[1;32m    623\u001b[0m \u001b[0;34m\u001b[0m\u001b[0m\n",
            "\u001b[0;32m/usr/local/lib/python3.7/dist-packages/spacy/util.py\u001b[0m in \u001b[0;36mload_model_from_path\u001b[0;34m(model_path, meta, vocab, disable, exclude, config)\u001b[0m\n\u001b[1;32m    485\u001b[0m     \u001b[0mconfig_path\u001b[0m \u001b[0;34m=\u001b[0m \u001b[0mmodel_path\u001b[0m \u001b[0;34m/\u001b[0m \u001b[0;34m\"config.cfg\"\u001b[0m\u001b[0;34m\u001b[0m\u001b[0;34m\u001b[0m\u001b[0m\n\u001b[1;32m    486\u001b[0m     \u001b[0moverrides\u001b[0m \u001b[0;34m=\u001b[0m \u001b[0mdict_to_dot\u001b[0m\u001b[0;34m(\u001b[0m\u001b[0mconfig\u001b[0m\u001b[0;34m)\u001b[0m\u001b[0;34m\u001b[0m\u001b[0;34m\u001b[0m\u001b[0m\n\u001b[0;32m--> 487\u001b[0;31m     \u001b[0mconfig\u001b[0m \u001b[0;34m=\u001b[0m \u001b[0mload_config\u001b[0m\u001b[0;34m(\u001b[0m\u001b[0mconfig_path\u001b[0m\u001b[0;34m,\u001b[0m \u001b[0moverrides\u001b[0m\u001b[0;34m=\u001b[0m\u001b[0moverrides\u001b[0m\u001b[0;34m)\u001b[0m\u001b[0;34m\u001b[0m\u001b[0;34m\u001b[0m\u001b[0m\n\u001b[0m\u001b[1;32m    488\u001b[0m     \u001b[0mnlp\u001b[0m \u001b[0;34m=\u001b[0m \u001b[0mload_model_from_config\u001b[0m\u001b[0;34m(\u001b[0m\u001b[0mconfig\u001b[0m\u001b[0;34m,\u001b[0m \u001b[0mvocab\u001b[0m\u001b[0;34m=\u001b[0m\u001b[0mvocab\u001b[0m\u001b[0;34m,\u001b[0m \u001b[0mdisable\u001b[0m\u001b[0;34m=\u001b[0m\u001b[0mdisable\u001b[0m\u001b[0;34m,\u001b[0m \u001b[0mexclude\u001b[0m\u001b[0;34m=\u001b[0m\u001b[0mexclude\u001b[0m\u001b[0;34m)\u001b[0m\u001b[0;34m\u001b[0m\u001b[0;34m\u001b[0m\u001b[0m\n\u001b[1;32m    489\u001b[0m     \u001b[0;32mreturn\u001b[0m \u001b[0mnlp\u001b[0m\u001b[0;34m.\u001b[0m\u001b[0mfrom_disk\u001b[0m\u001b[0;34m(\u001b[0m\u001b[0mmodel_path\u001b[0m\u001b[0;34m,\u001b[0m \u001b[0mexclude\u001b[0m\u001b[0;34m=\u001b[0m\u001b[0mexclude\u001b[0m\u001b[0;34m,\u001b[0m \u001b[0moverrides\u001b[0m\u001b[0;34m=\u001b[0m\u001b[0moverrides\u001b[0m\u001b[0;34m)\u001b[0m\u001b[0;34m\u001b[0m\u001b[0;34m\u001b[0m\u001b[0m\n",
            "\u001b[0;32m/usr/local/lib/python3.7/dist-packages/spacy/util.py\u001b[0m in \u001b[0;36mload_config\u001b[0;34m(path, overrides, interpolate)\u001b[0m\n\u001b[1;32m    644\u001b[0m     \u001b[0;32melse\u001b[0m\u001b[0;34m:\u001b[0m\u001b[0;34m\u001b[0m\u001b[0;34m\u001b[0m\u001b[0m\n\u001b[1;32m    645\u001b[0m         \u001b[0;32mif\u001b[0m \u001b[0;32mnot\u001b[0m \u001b[0mconfig_path\u001b[0m \u001b[0;32mor\u001b[0m \u001b[0;32mnot\u001b[0m \u001b[0mconfig_path\u001b[0m\u001b[0;34m.\u001b[0m\u001b[0mexists\u001b[0m\u001b[0;34m(\u001b[0m\u001b[0;34m)\u001b[0m \u001b[0;32mor\u001b[0m \u001b[0;32mnot\u001b[0m \u001b[0mconfig_path\u001b[0m\u001b[0;34m.\u001b[0m\u001b[0mis_file\u001b[0m\u001b[0;34m(\u001b[0m\u001b[0;34m)\u001b[0m\u001b[0;34m:\u001b[0m\u001b[0;34m\u001b[0m\u001b[0;34m\u001b[0m\u001b[0m\n\u001b[0;32m--> 646\u001b[0;31m             \u001b[0;32mraise\u001b[0m \u001b[0mIOError\u001b[0m\u001b[0;34m(\u001b[0m\u001b[0mErrors\u001b[0m\u001b[0;34m.\u001b[0m\u001b[0mE053\u001b[0m\u001b[0;34m.\u001b[0m\u001b[0mformat\u001b[0m\u001b[0;34m(\u001b[0m\u001b[0mpath\u001b[0m\u001b[0;34m=\u001b[0m\u001b[0mconfig_path\u001b[0m\u001b[0;34m,\u001b[0m \u001b[0mname\u001b[0m\u001b[0;34m=\u001b[0m\u001b[0;34m\"config.cfg\"\u001b[0m\u001b[0;34m)\u001b[0m\u001b[0;34m)\u001b[0m\u001b[0;34m\u001b[0m\u001b[0;34m\u001b[0m\u001b[0m\n\u001b[0m\u001b[1;32m    647\u001b[0m         return config.from_disk(\n\u001b[1;32m    648\u001b[0m             \u001b[0mconfig_path\u001b[0m\u001b[0;34m,\u001b[0m \u001b[0moverrides\u001b[0m\u001b[0;34m=\u001b[0m\u001b[0moverrides\u001b[0m\u001b[0;34m,\u001b[0m \u001b[0minterpolate\u001b[0m\u001b[0;34m=\u001b[0m\u001b[0minterpolate\u001b[0m\u001b[0;34m\u001b[0m\u001b[0;34m\u001b[0m\u001b[0m\n",
            "\u001b[0;31mOSError\u001b[0m: [E053] Could not read config.cfg from /usr/local/lib/python3.7/dist-packages/en_core_web_sm/en_core_web_sm-2.2.5/config.cfg"
          ]
        }
      ]
    },
    {
      "cell_type": "code",
      "source": [
        "import re\n",
        "\n",
        "VOWEL_RUNS = re.compile(\"[aeiouy]+\", flags=re.I)\n",
        "EXCEPTIONS = re.compile(\n",
        "    # fixes trailing e issues:\n",
        "    # smite, scared\n",
        "    \"[^aeiou]e[sd]?$|\"\n",
        "    # fixes adverbs:\n",
        "    # nicely\n",
        "    + \"[^e]ely$\",\n",
        "    flags=re.I\n",
        ")\n",
        "ADDITIONAL = re.compile(\n",
        "    # fixes incorrect subtractions from exceptions:\n",
        "    # smile, scarred, raises, fated\n",
        "    \"[^aeioulr][lr]e[sd]?$|[csgz]es$|[td]ed$|\"\n",
        "    # fixes miscellaneous issues:\n",
        "    # flying, piano, video, prism, fire, evaluate\n",
        "    + \".y[aeiou]|ia(?!n$)|eo|ism$|[^aeiou]ire$|[^gq]ua\",\n",
        "    flags=re.I\n",
        ")\n",
        "\n",
        "def count_syllables_en(word):\n",
        "    vowel_runs = len(VOWEL_RUNS.findall(word))\n",
        "    exceptions = len(EXCEPTIONS.findall(word))\n",
        "    additional = len(ADDITIONAL.findall(word))\n",
        "    return max(1, vowel_runs - exceptions + additional)"
      ],
      "metadata": {
        "id": "aCFvBHozjzoN"
      },
      "execution_count": 5,
      "outputs": []
    },
    {
      "cell_type": "code",
      "source": [
        "print(count_syllables_en('announcement'))\n",
        "print(count_syllables_en('columbia'))\n",
        "print(count_syllables_en('tried'))\n",
        "print(count_syllables_en('course'))\n",
        "print(count_syllables_en('hairy'))\n",
        "print(count_syllables_en('Siberia'))"
      ],
      "metadata": {
        "colab": {
          "base_uri": "https://localhost:8080/"
        },
        "id": "NWoZ3niYj20y",
        "outputId": "664773a9-4554-454d-bd6e-4fa647a3038c"
      },
      "execution_count": 6,
      "outputs": [
        {
          "output_type": "stream",
          "name": "stdout",
          "text": [
            "4\n",
            "4\n",
            "1\n",
            "1\n",
            "2\n",
            "4\n"
          ]
        }
      ]
    },
    {
      "cell_type": "code",
      "source": [
        "pip install pyphen"
      ],
      "metadata": {
        "colab": {
          "base_uri": "https://localhost:8080/"
        },
        "id": "wVRb7FduIouV",
        "outputId": "c328de3f-2376-40f4-d61b-5b3f617932c8"
      },
      "execution_count": 7,
      "outputs": [
        {
          "output_type": "stream",
          "name": "stdout",
          "text": [
            "Requirement already satisfied: pyphen in /usr/local/lib/python3.7/dist-packages (0.10.0)\n"
          ]
        }
      ]
    },
    {
      "cell_type": "code",
      "source": [
        "import pyphen\n",
        "\n",
        "dic = pyphen.Pyphen(lang='en_US')\n",
        "print(dic.inserted('announcement'))\n",
        "print(dic.inserted('columbia'))\n",
        "print(dic.inserted('tried'))\n",
        "print(dic.inserted('course'))\n",
        "print(dic.inserted('hairy'))\n",
        "print(dic.inserted('Siberia'))\n",
        "\n",
        "dic = pyphen.Pyphen(lang='ru_RU')\n",
        "print(dic.inserted('опушка'))"
      ],
      "metadata": {
        "colab": {
          "base_uri": "https://localhost:8080/"
        },
        "id": "oktk0-hnJFFY",
        "outputId": "d102f3c5-ac63-4dc2-c31b-336fc5c83acb"
      },
      "execution_count": 8,
      "outputs": [
        {
          "output_type": "stream",
          "name": "stdout",
          "text": [
            "an-nounce-ment\n",
            "co-lum-bia\n",
            "tried\n",
            "course\n",
            "hairy\n",
            "Siberia\n",
            "опуш-ка\n"
          ]
        }
      ]
    },
    {
      "cell_type": "code",
      "execution_count": 9,
      "metadata": {
        "id": "kxjqktt8mduf"
      },
      "outputs": [],
      "source": [
        "from math import sqrt\n",
        "import csv\n",
        "from numpy import mean, arange\n",
        "\n",
        "# Russian sounds and characters\n",
        "RU_CONSONANTS_LOW = [u'к', u'п', u'с', u'т', u'ф', u'х', u'ц', u'ч', u'ш', u'щ']\n",
        "RU_CONSONANTS_HIGH = [u'б', u'в', u'г', u'д', u'ж', u'з']\n",
        "RU_CONSONANTS_SONOR = [u'л', u'м', u'н', u'р']\n",
        "RU_CONSONANTS_YET = [u'й']\n",
        "\n",
        "RU_CONSONANTS = RU_CONSONANTS_HIGH + RU_CONSONANTS_LOW + RU_CONSONANTS_SONOR + RU_CONSONANTS_YET\n",
        "RU_VOWELS = [u'а', u'е', u'и', u'у', u'о', u'я', u'ё', u'э', u'ю', u'я', u'ы']\n",
        "RU_MARKS = [u'ь', u'ъ']\n",
        "\n",
        "RU_LETTERS = RU_CONSONANTS + RU_MARKS + RU_VOWELS\n",
        "\n",
        "EN_VOWELS = list(\"aeiouy\")\n",
        "EN_LETTERS = list(\"abcdefghijklmnopqrstuvwxyz\")\n"
      ]
    },
    {
      "cell_type": "code",
      "source": [
        "def calc_Flesh(n_syllabes, n_words, n_sent):\n",
        "    \"\"\"Метрика Flesh Kincaid для английского языка\"\"\"\n",
        "    n = 206.835 - 1.015 * (float(n_words) / n_sent) - 84.6 * (float(n_syllabes) / n_words)\n",
        "    return n\n",
        "\n",
        "def calc_Flesh_Kincaid(n_syllabes, n_words, n_sent):\n",
        "    \"\"\"Метрика Flesh Kincaid для английского языка\"\"\"\n",
        "    n = 0.39 * (float(n_words) / n_sent) + 11.8 * (float(n_syllabes) / n_words) - 15.59\n",
        "    return n\n",
        "\n",
        "def calc_Gunning_fog(n_psyl, n_words, n_sent):\n",
        "    \"\"\"Метрика Gunning fog для английского языка\"\"\"\n",
        "    n = 0.4 * ((float(n_words)/ n_sent) + 100 * (float(n_psyl) / n_words))\n",
        "    return n\n",
        "\n",
        "def calc_SMOG(n_psyl, n_sent):\n",
        "    \"\"\"Метрика SMOG для английского языка\"\"\"\n",
        "    n = 1.0430 * sqrt((float(30.0) / n_sent) * n_psyl) + 3.1291\n",
        "    return n\n",
        "\n",
        "def calc_Dale_Chale(n_psyl, n_words, n_sent):\n",
        "    \"\"\"Метрика Dale Chale для английского языка\"\"\"\n",
        "    n = 0.1579 * (100.0 * n_psyl / n_words) + 0.0496 * (float(n_words) / n_sent)\n",
        "    return n"
      ],
      "metadata": {
        "id": "IECgW1Rgnvwt"
      },
      "execution_count": 10,
      "outputs": []
    },
    {
      "cell_type": "code",
      "source": [
        "def calc_Flesh_RU(n_syllabes, n_words, n_sent):\n",
        "    \"\"\"Метрика Flesh Kincaid для английского языка\"\"\"\n",
        "    n = 206.835 - 1.3 * (float(n_words) / n_sent) - 60.1 * (float(n_syllabes) / n_words)\n",
        "    return n\n",
        "\n",
        "def calc_Flesh_Kincaid_RU(n_syllabes, n_words, n_sent):\n",
        "    \"\"\"Метрика Flesh Kincaid для английского языка\"\"\"\n",
        "    # n = 0.48 * (float(n_words) / n_sent) + 8.39 * (float(n_syllabes) / n_words) - 15.59\n",
        "    n = 0.49 * (float(n_words) / n_sent) + 7.3 * (float(n_syllabes) / n_words) - 16.59\n",
        "    return n\n",
        "\n",
        "# TODO\n",
        "# PS. не понятно как программно сложносочиненные предложения искать и делить, но это нужно для метода\n",
        "def calc_Gunning_fog_RU(n_psyl, n_words, n_sent):\n",
        "    \"\"\"Метрика Gunning fog для английского языка\"\"\"\n",
        "    n = 0.4 * (0.78 * (float(n_words)/ n_sent) + 100 * (float(n_psyl) / n_words))\n",
        "    return n\n",
        "\n",
        "# TODO\n",
        "def calc_SMOG_RU(n_psyl, n_sent):\n",
        "    \"\"\"Метрика SMOG для английского языка\"\"\"\n",
        "    n = 1.0430 * sqrt((float(30.0) / n_sent) * n_psyl) + 3.1291\n",
        "    return n\n",
        "\n",
        "# TODO\n",
        "def calc_Dale_Chale_RU(n_psyl, n_words, n_sent):\n",
        "    \"\"\"Метрика Dale Chale для английского языка\"\"\"\n",
        "    n = 0.1579 * (100.0 * n_psyl / n_words) + 0.0496 * (float(n_words) / n_sent)\n",
        "    return n"
      ],
      "metadata": {
        "id": "eIhtK8VVcgTn"
      },
      "execution_count": 11,
      "outputs": []
    },
    {
      "cell_type": "code",
      "source": [
        "import re\n",
        "\n",
        "testText = 'Aw yes, this is . Increadible : things? ? ; ? Yes!! !'\n",
        "testText = re.sub(r' \\:', ':', testText)\n",
        "testText = re.sub(r' \\;', ';', testText)\n",
        "testText = re.sub(r' \\.', '.', testText)\n",
        "testText = re.sub(r' \\?', '?', testText)\n",
        "testText = re.sub(r' \\!', '!', testText)\n",
        "print(testText)"
      ],
      "metadata": {
        "colab": {
          "base_uri": "https://localhost:8080/"
        },
        "id": "5wrOzLwyaXpF",
        "outputId": "c408aaf2-c86b-490d-f807-9a5cceb1501b"
      },
      "execution_count": 12,
      "outputs": [
        {
          "output_type": "stream",
          "name": "stdout",
          "text": [
            "Aw yes, this is. Increadible: things??;? Yes!!!\n"
          ]
        }
      ]
    },
    {
      "cell_type": "code",
      "source": [
        "testText = 'Aw yes,this is .Increadible things , Yes!! !'\n",
        "testText = re.sub(r'(?<=[.,])(?=[^\\s])', r' ', testText)\n",
        "print(testText)"
      ],
      "metadata": {
        "colab": {
          "base_uri": "https://localhost:8080/"
        },
        "id": "ga_HEbNsaxtv",
        "outputId": "b5eaa69d-6445-4b5c-c8b8-ddb1f9e83c56"
      },
      "execution_count": 13,
      "outputs": [
        {
          "output_type": "stream",
          "name": "stdout",
          "text": [
            "Aw yes, this is . Increadible things , Yes!! !\n"
          ]
        }
      ]
    },
    {
      "cell_type": "code",
      "source": [
        "import re\n",
        "\n",
        "SENTENCE_SPLITTERS = [u'.', u'?', u'!']\n",
        "SPACES = [u' ', u'\\t']\n",
        "\n",
        "# Number of syllabes for long words\n",
        "COMPLEX_SYL_FACTOR_EN = 3\n",
        "COMPLEX_SYL_FACTOR_RU = 3\n",
        "\n",
        "def calc_readability_metrics_ru(text, verbose=True):\n",
        "    sentences = 0\n",
        "    chars = 0\n",
        "    spaces = 0\n",
        "    letters = 0\n",
        "    syllabes = 0\n",
        "    words = 0\n",
        "    complex_words = 0\n",
        "    simple_words = 0\n",
        "    wsyllabes = {}\n",
        "\n",
        "    wordStart = False\n",
        "\n",
        "    text = re.sub(r'\\n+', '\\n', text)\n",
        "    text = re.sub(r'(?<=[.,])(?=[^\\s])', r' ', text)\n",
        "    text = re.sub(r' \\:', ':', text)\n",
        "    text = re.sub(r' \\;', ';', text)\n",
        "    text = re.sub(r' \\.', '.', text)\n",
        "    text = re.sub(r' \\?', '?', text)\n",
        "    text = re.sub(r' \\!', '!', text)\n",
        "    text = text.strip()\n",
        "\n",
        "    if text[len(text)-1] not in SENTENCE_SPLITTERS:\n",
        "        text = text + '.'\n",
        "\n",
        "    for line in text.splitlines():\n",
        "        # line = re.sub(\" +\", \" \", line)\n",
        "        \n",
        "        line_len = len(line)\n",
        "        chars += line_len\n",
        "#        l = l.decode('utf8')\n",
        "        for idx in range(0, line_len):\n",
        "            ch = line[idx]\n",
        "            if ch in SENTENCE_SPLITTERS:\n",
        "                if idx-2 == 0 or (idx-2 > 0 and line[idx-2] in SPACES):\n",
        "                    continue\n",
        "                if idx+1 == line_len:\n",
        "                    sentences += 1\n",
        "                if idx+1 < line_len and line[idx+1] in SPACES:\n",
        "                    sentences += 1        \n",
        "            if ch in SPACES:\n",
        "                spaces += 1\n",
        "\n",
        "        for word in line.split():\n",
        "            has_syl = False\n",
        "            wsyl = 0\n",
        "\n",
        "            if word in ['-', '—']:\n",
        "                continue\n",
        "\n",
        "            if len(word) > 0: \n",
        "                words += 1\n",
        "\n",
        "            for ch in word:\n",
        "                ch = ch.lower()\n",
        "                if ch in RU_LETTERS:\n",
        "                    letters += 1\n",
        "                if ch in RU_VOWELS:\n",
        "                    syllabes += 1\n",
        "                    has_syl = True\n",
        "                    wsyl += 1\n",
        "            if wsyl >= COMPLEX_SYL_FACTOR_RU:\n",
        "                complex_words += 1\n",
        "            else:\n",
        "                simple_words += 1\n",
        "            if has_syl:\n",
        "                # words += 1\n",
        "                v = wsyllabes.get(str(wsyl), 0)\n",
        "                wsyllabes[str(wsyl)] = v + 1\n",
        "    \n",
        "    metrics = {'c_share': float(complex_words) * 100 / words if words > 0 else 0,\n",
        "               'avg_slen' : float(words) / sentences if sentences > 0 else 0,\n",
        "               'avg_syl' : float(syllabes) / words if words > 0 else 0,\n",
        "               'n_syllabes': syllabes,\n",
        "               'n_words' : words,\n",
        "               'n_sentences': sentences,\n",
        "               'n_complex_words': complex_words,\n",
        "               'n_simple_words' : simple_words,\n",
        "               'chars': chars,\n",
        "               'letters' : letters,\n",
        "               'spaces' : spaces,\n",
        "               'index_fl': calc_Flesh_RU(syllabes, words, sentences),\n",
        "               'index_flk': calc_Flesh_Kincaid_RU(syllabes, words, sentences),\n",
        "               'index_gf': calc_Gunning_fog(complex_words, words, sentences),\n",
        "               'index_SMOG' : calc_SMOG(complex_words, sentences),\n",
        "              #  'index_dc' : calc_Dale_Chale_RU(complex_words, words, sentences),\n",
        "              #  'index_cl_rus' : calc_Coleman_Liau_index(letters, words, sentences),\n",
        "              #  'index_ari_rus' : calc_ARI_index(letters, words, sentences),\n",
        "#               'index_fk_rus': calc_Flesh_Kincaid_Grade_rus(syllabes, words, sentences),\n",
        "              #  'wsyllabes' : wsyllabes\n",
        "    }\n",
        "    del text\n",
        "    return metrics\n",
        "\n",
        "def count_syllables(word):\n",
        "    return len(\n",
        "        re.findall('(?!e$)[aeiouy]+', word, re.I) +\n",
        "        re.findall('^[^aeiouy]*e$', word, re.I)\n",
        "    )\n",
        "\n",
        "def calc_readability_metrics_en(text, verbose=True):\n",
        "    sentences = 0\n",
        "    chars = 0\n",
        "    spaces = 0\n",
        "    letters = 0\n",
        "    syllabes = 0\n",
        "    words = 0\n",
        "    complex_words = 0\n",
        "    simple_words = 0\n",
        "    wsyllabes = {}\n",
        "\n",
        "    wordStart = False\n",
        "\n",
        "    text = re.sub(r'\\n+', '\\n', text)\n",
        "    text = re.sub(r'(?<=[.,])(?=[^\\s])', r' ', text)\n",
        "    text = re.sub(r' \\:', ':', text)\n",
        "    text = re.sub(r' \\;', ';', text)\n",
        "    text = re.sub(r' \\.', '.', text)\n",
        "    text = re.sub(r' \\?', '?', text)\n",
        "    text = re.sub(r' \\!', '!', text)\n",
        "    text = text.strip()\n",
        "\n",
        "    if text[len(text)-1] not in SENTENCE_SPLITTERS:\n",
        "        text = text + '.'\n",
        "\n",
        "    for line in text.splitlines():\n",
        "        # line = re.sub(\" +\", \" \", line)\n",
        "        \n",
        "        line_len = len(line)\n",
        "        chars += line_len\n",
        "#        l = l.decode('utf8')\n",
        "        for idx in range(0, line_len):\n",
        "            ch = line[idx]\n",
        "            if ch in SENTENCE_SPLITTERS:\n",
        "                if idx-2 == 0 or (idx-2 > 0 and line[idx-2] in SPACES):\n",
        "                    continue\n",
        "                if idx+1 == line_len:\n",
        "                    sentences += 1\n",
        "                if idx+1 < line_len and line[idx+1] in SPACES:\n",
        "                    sentences += 1        \n",
        "            if ch in SPACES:\n",
        "                spaces += 1\n",
        "\n",
        "        for word in line.split():\n",
        "            has_syl = False\n",
        "            wsyl = 0\n",
        "\n",
        "            if word in ['-', '—']:\n",
        "                continue\n",
        "\n",
        "            if len(word) > 0: \n",
        "                words += 1\n",
        "\n",
        "            # wsyl = syllables_lib.estimate(word)\n",
        "            # wsyl = count_syllables(word)\n",
        "            wsyl = count_syllables_en(word)\n",
        "            syllabes += wsyl\n",
        "\n",
        "            for ch in word:\n",
        "                ch = ch.lower()\n",
        "                if ch in EN_LETTERS:\n",
        "                    letters += 1\n",
        "\n",
        "            if wsyl >= COMPLEX_SYL_FACTOR_RU:\n",
        "                complex_words += 1\n",
        "            else:\n",
        "                simple_words += 1\n",
        "    \n",
        "    metrics = {'c_share': float(complex_words) * 100 / words if words > 0 else 0,\n",
        "               'avg_slen' : float(words) / sentences if sentences > 0 else 0,\n",
        "               'avg_syl' : float(syllabes) / words if words > 0 else 0,\n",
        "               'n_syllabes': syllabes,\n",
        "               'n_words' : words,\n",
        "               'n_sentences': sentences,\n",
        "               'n_complex_words': complex_words,\n",
        "               'n_simple_words' : simple_words,\n",
        "               'chars': chars,\n",
        "               'letters' : letters,\n",
        "               'spaces' : spaces,\n",
        "               'index_fl': calc_Flesh(syllabes, words, sentences),\n",
        "               'index_flk': calc_Flesh_Kincaid(syllabes, words, sentences),\n",
        "               'index_dc' : calc_Dale_Chale(complex_words, words, sentences),\n",
        "               'index_gf': calc_Gunning_fog(complex_words, words, sentences),\n",
        "               'index_SMOG' : calc_SMOG(complex_words, sentences),\n",
        "              #  'index_cl_rus' : calc_Coleman_Liau_index(letters, words, sentences),\n",
        "              #  'index_ari_rus' : calc_ARI_index(letters, words, sentences),\n",
        "#               'index_fk_rus': calc_Flesh_Kincaid_Grade_rus(syllabes, words, sentences),\n",
        "              #  'wsyllabes' : wsyllabes\n",
        "    }\n",
        "    del text\n",
        "    return metrics"
      ],
      "metadata": {
        "id": "ouTZl2kpobME"
      },
      "execution_count": 14,
      "outputs": []
    },
    {
      "cell_type": "code",
      "source": [
        "FLASH_BOARDERS = [\n",
        "    {'min': 0.0, 'max': 10.0, 'text': 'Professional\tExtremely difficult to read. Best understood by university graduates.'},\n",
        "    {'min': 10.0, 'max': 30.0, 'text': 'College graduate\tVery difficult to read. Best understood by university graduates.'},\n",
        "    {'min': 30.0, 'max': 50.0, 'text': 'College\tDifficult to read.'},\n",
        "    {'min': 50.0, 'max': 60.0, 'text': '10th to 12th grade\tFairly difficult to read.'},\n",
        "    {'min': 60.0, 'max': 70.0, 'text': '8th & 9th grade\tPlain English. Easily understood by 13- to 15-year-old students.'},\n",
        "    {'min': 70.0, 'max': 80.0, 'text': '7th grade\tFairly easy to read.'},\n",
        "    {'min': 80.0, 'max': 90.0, 'text': '6th grade\tEasy to read. Conversational English for consumers.'},\n",
        "    {'min': 90.0, 'max': 100.0, 'text': '5th grade\tVery easy to read. Easily understood by an average 11-year-old student.'},\n",
        "]\n",
        "\n",
        "FOG_BOARDERS = [\n",
        "     {'min': 20, 'max': 50, 'text': 'наука.'},\n",
        "     {'min': 16, 'max': 20, 'text': 'высшее образование.'},\n",
        "     {'min': 9, 'max': 10, 'text': 'газетный уровень.'},\n",
        "     {'min': 7, 'max': 8, 'text': 'школьный уровень.'},\n",
        "]\n",
        "\n",
        "GRADE_TEXT = {\n",
        "    1: u'1 - 3-й класс (возраст примерно: 6-8 лет)',\n",
        "    2: u'1 - 3-й класс (возраст примерно: 6-8 лет)',\n",
        "    3: u'1 - 3-й класс (возраст примерно: 6-8 лет)',\n",
        "    4: u'4 - 6-й класс (возраст примерно: 9-11 лет)',\n",
        "    5: u'4 - 6-й класс (возраст примерно: 9-11 лет)',\n",
        "    6: u'4 - 6-й класс (возраст примерно: 9-11 лет)',\n",
        "    7: u'7 - 9-й класс (возраст примерно: 12-14 лет)',\n",
        "    8: u'7 - 9-й класс (возраст примерно: 12-14 лет)',\n",
        "    9: u'7 - 9-й класс (возраст примерно: 12-14 лет)',\n",
        "    10: u'10 - 11-й класс (возраст примерно: 15-16 лет)',\n",
        "    11: u'10 - 11-й класс (возраст примерно: 15-16 лет)',\n",
        "    12: u'1 - 3 курсы ВУЗа (возраст примерно: 17-19 лет)',\n",
        "    13: u'1 - 3 курсы ВУЗа (возраст примерно: 17-19 лет)',\n",
        "    14: u'1 - 3 курсы ВУЗа (возраст примерно: 17-19 лет)',\n",
        "    15: u'4 - 6 курсы ВУЗа (возраст примерно: 20-22 лет)',\n",
        "    16: u'4 - 6 курсы ВУЗа (возраст примерно: 20-22 лет)',\n",
        "    17: u'4 - 6 курсы ВУЗа (возраст примерно: 20-22 лет)',\n",
        "}\n",
        "\n",
        "POST_GRADE_TEXT_18_24 = u'Аспирантура, второе высшее образование, phD'"
      ],
      "metadata": {
        "id": "U1lPZT9wuTJW"
      },
      "execution_count": 15,
      "outputs": []
    },
    {
      "cell_type": "code",
      "source": [
        "# textUrl = 'http://lib.ru/RUSSLIT/AWERCHENKO/averchenko_telegraph.txt'\n",
        "# textUrl = 'http://skazki.org.ru/tales/yaichko/'\n",
        "\n",
        "textStringRu = \"\"\"\n",
        "Открытие Ижевского государственного медицинского института было обусловлено острейшей необходимостью во врачебных кадрах быстро развивающегося региона России - Удмуртии. Постановлением Совета народных комиссаров РСФСР от 15.04.1933 г. было принято решение об открытии в городе Ижевске Удмуртской автономной области медицинского института (первоначально в составе одного факультета - лечебного).\n",
        "Президиум облисполкома УАО постановил: открыть мединститут в городе Ижевске Удмуртской автономной области с 1 сентября 1933 года. На основании этого постановления были выделены помещения для кафедр и квартиры для первых приглашенных преподавателей, организованы подготовительные курсы для будущих абитуриентов из числа удмуртов и других национальностей соседних автономных республик и областей, определен коечный фонд клинических баз (670 коек).\n",
        "Сложные задачи встали перед вновь созданным институтом. Необходимо было обеспечить учебный процесс, развернуть научные исследования, вытекающие из нужд практического здравоохранения и состояния здоровья населения области и параллельно решать организационные вопросы.\n",
        "\n",
        "Период становления\n",
        "В августе 1933 г. на первый курс был зачислен 171 студент и 1 сентября 1933 года к работе в ИГМИ приступили 24 преподавателя, в том числе четыре профессора и три доцента. Функционировали четыре кафедры: нормальной анатомии, общей химии, физики, биологии.\n",
        "Позднее, в 1934 году, были организованы кафедры: гистологии, акушерства и гинекологи, биохимии, общей гигиены, нормальной физиологии.\n",
        "С 1935 года начали функционировать кафедры: пропедевтики внутренних болезней, оперативной хирургии и топографической анатомии, общей хирургии, патологической физиологии, общественных дисциплин, микробиологии, патологической анатомии, фармакологии, физического воспитания.\n",
        "В 1937 году начали работать еще десять кафедр: госпитальной хирургии, глазных болезней, детских болезней, нервных болезней, судебной медицины, госпитальной терапии, кожных и венерологических болезней, болезней уха, горла, носа, инфекционных болезней, психиатрии.\n",
        "В 1938 году были организованы кафедры: социальной гигиены и иностранных языков, а в 1944-м - кафедра военно-медицинской подготовки.\n",
        "В оснащении кафедр учебными пособиями первоначально принимал участие 2-й Московский медицинский институт. \n",
        "\n",
        "Решение поставленных задач\n",
        "В период становления перед коллективом стояли задачи по завершению оформления института как полноценного высшего учебного заведения. Необходимо было улучшить работу медицинского рабфака и подготовительных курсов в городах Глазове и Ижевске, форсировать строительство морфологического корпуса, создать новые кафедры и лекционные аудитории на клинических базах, организовать занятия студентов в поликлиниках.\n",
        "Эти вопросы и стали основным содержанием деятельности руководства института в 1937-1940 гг. И как результат проделанной организационной работы к 1940 г. в ИГМИ сформировался основной костяк руководителей кафедр, принесших из медицинских институтов Перми, Одессы, Горького, Ленинграда, Саратова и других крупных городов определенные традиции, солидный опыт в организации учебной и научной работы медицинских вузов. Институт стал способен начать подготовку национальных кадров ученых из числа местных врачей, которые пришли сюда в качестве первых ассистентов кафедр.\n",
        "\n",
        "Год 1938 - первый выпуск\n",
        "Поистине знаменательное событие произошло в 1938 году: состоялся первый выпуск 109 врачей, 79 из которых были направлены на работу в лечебные учреждения Удмуртии. В этом же году институт занял по итогам работы первое место среди медицинских вузов РСФСР. С первым выпуском в институте открылась возможность подготовки научных кадров через аспирантуру из числа выпускников, что расширило возможности роста национальных кадров ученых-медиков.\n",
        "\n",
        "Игми в военные и послевоенные годы\n",
        "К 1941 году ИГМИ превратилась в сложившийся коллектив, способный решать весь комплекс вопросов, связанных с подготовкой врачебных кадров, подготовкой преподавательского состава высокой квалификации, организацией научных исследований и обеспечением на должном уровне лечебно-диагностического процесса в клиниках.\n",
        "За годы войны, несмотря на крайне сложные условия работы вуза, было осуществлено пять выпусков. Страна получила 762 врача, большинство из них были направлены в действующую армию и тыловые госпитали. В планах научных работ в течение этого времени преобладали темы, связанные с военным травматизмом. В разработку этих тем были вовлечены все кафедры института.\n",
        "Для выполнения новых задач по учебной и научной работе в послевоенные годы необходимо было укрепить материальную базу кафедр и расширить клинические базы. Большая работа в этом направлении была проделана в 60-80-х годах. Активно работали цикловые методические комиссии и центральный координационный методический совет академии. Под их руководством разрабатывались вопросы комплексирования и преемственности преподавания, были составлены и внедрены в учебный процесс сетевой план координированного преподавания во временных интервалах ряда тем и разделов на теоретических, медико-биологических и клинических кафедрах, планы преемственности в преподавании военно-медицинских дисциплин, составлены сквозные межкафедральные программы преподавания вопросов неотложной помощи в хирургии, онкологии, гематологии, нефрологии и урологии.\n",
        "В учебном процессе активно применялись технические средства, улучшилось оснащение лабораторным оборудованием, были сделаны учебные кинофильмы. В начале 80-х годов создан вычислительный центр, началось внедрение в педагогический процесс вычислительной техники.\n",
        "\n",
        "Новое время\n",
        "В 1995 г. институт получил статус академии. На протяжении всех лет своего существования Ижевская государственная медицинская академия занимала достойное место среди медицинских вузов Российской Федерации по уровню и организация методического обеспечения учебного процесса. В академии традиционным было глубокое понимание того, что успешное решение задач по подготовке высококвалифицированных врачебных кадров определяется уровнем организации и постановки учебно-методической работы, эффективностью форм и методов преподавания, методологическим уровнем педагогического процесса, умелым сочетанием нравственного и профессионального воспитания будущих специалистов.\n",
        "\n",
        "Еще больше материалов по истории становления академии смотрите в разделе \"Музей истории ИГМА\".\n",
        "\n",
        "ФГБОУ ВО \"Ижевская государственная медицинская академия\" Министерства здравоохранения России сегодня опирается на опыт прошлых лет, солидную техническую и учебную базы, имеет сильный профессорско-преподавательский состав и предлагает подготовку специалистов, соответствующую федеральным государственным образовательным стандартам, уровень образования - специалитет:\n",
        "\n",
        "- Лечебное дело (31.05.01)\n",
        "\n",
        "- Педиатрия (31.05.02)\n",
        "\n",
        "- Стоматология (31.05.03)\n",
        "\n",
        "Контингент обучающихся на 2021-2022 учебный год на лечебном факультете составляет 2350 студентов, на педиатрическом – 740 и на стоматологическом факультете – 498 студентов.\n",
        "\n",
        "Реализуется 31 программа подготовки кадров высшей квалификации - программам ординатуры (акушерство и гинекология, анестезиология и реаниматология, клиническая лабораторная диагностика, рентгенология, патологическая анатомия, судебно-медицинская экспертиза, детская хирургия, педиатрия, психиатрия, дерматовенерология, инфекционные болезни, кардиология, лечебная физкультура и спортивная медицина, неврология, терапия, фтизиатрия, нейрохирургия, онкология, оториноларингология, офтальмология, сердечно-сосудистая хирургия, травматология и ортопедия, урология, челюстно-лицевая хирургия, организация здравоохранения и общественное здоровье, терапевтическая стоматология, хирургическая стоматология, ортопедическая стоматология, детская стоматология, ортодонтия). Обучение в ординатуре составляет 2 года. В 2021-2022 учебном году обучение проходят 520 ординаторов.\n",
        "\n",
        "Реализуется 3 направления подготовки в аспирантуре, где на настоящий момент обучается 75 человек.\n",
        "\n",
        "Обучение проводится в просторных аудиториях, оснащенных аудио- и видеотехникой, современным компьютерным оборудованием. Имеется просторный читальный зал. В академии функционирует библиотека учебно-методической и научной литературы, максимально отвечающая потребностям своих читателей.\n",
        "\n",
        "В академии имеются: три благоустроенных общежития, детский сад, спортивно-оздоровительный комплекс,  столовая, многопрофильный медицинский центр \"ИГМА-Доктор\", стоматологическая клиническая поликлиника ИГМА.\n",
        "\n",
        "\"\"\""
      ],
      "metadata": {
        "id": "lPT4GOzhitbM"
      },
      "execution_count": 303,
      "outputs": []
    },
    {
      "cell_type": "code",
      "source": [
        "import json\n",
        "\n",
        "text = textStringRu\n",
        "res = calc_readability_metrics_ru(text)\n",
        "print(json.dumps(res, indent=4))\n",
        "\n",
        "if round(res['index_flk']) in GRADE_TEXT:\n",
        "    fkMsg = GRADE_TEXT[round(res['index_flk'])]\n",
        "elif round(res['index_flk']) > 17:\n",
        "    fkMsg = POST_GRADE_TEXT_18_24\n",
        "\n",
        "flashMsg = ''\n",
        "for boarder in FLASH_BOARDERS:\n",
        "    if res['index_fl'] > boarder['min'] and res['index_fl'] < boarder['max']:\n",
        "        flashMsg = boarder['text']\n",
        "\n",
        "print(\"Flasch level: \" + flashMsg)\n",
        "print(\"Flasch-Kincaid Grade level: \" + fkMsg)"
      ],
      "metadata": {
        "colab": {
          "base_uri": "https://localhost:8080/"
        },
        "id": "2lwNOauCBRKF",
        "outputId": "ccdc3fc2-76e3-4d0c-cf2c-980845b242f8"
      },
      "execution_count": 304,
      "outputs": [
        {
          "output_type": "stream",
          "name": "stdout",
          "text": [
            "{\n",
            "    \"c_share\": 60.93591047812818,\n",
            "    \"avg_slen\": 18.547169811320753,\n",
            "    \"avg_syl\": 3.1068158697863684,\n",
            "    \"n_syllabes\": 3054,\n",
            "    \"n_words\": 983,\n",
            "    \"n_sentences\": 53,\n",
            "    \"n_complex_words\": 599,\n",
            "    \"n_simple_words\": 384,\n",
            "    \"chars\": 8362,\n",
            "    \"letters\": 7026,\n",
            "    \"spaces\": 962,\n",
            "    \"index_fl\": -3.995954528877718,\n",
            "    \"index_flk\": 15.177869056987657,\n",
            "    \"index_gf\": 31.79323211577957,\n",
            "    \"index_SMOG\": 22.334369780934882\n",
            "}\n",
            "Flasch level: \n",
            "Flasch-Kincaid Grade level: 4 - 6 курсы ВУЗа (возраст примерно: 20-22 лет)\n"
          ]
        }
      ]
    },
    {
      "cell_type": "code",
      "source": [
        "textStringEn = \"\"\"\n",
        "\n",
        "Izhevsk State Medical Academy is a leading higher medical education provider in the Russian Federation. It is proud of its highly-qualified teaching staff, advanced researchers and experienced physicians whose names are world-famous.\n",
        "The academy was established in 1933 and over the course of 80 years it has trained more than 21500 doctors and nursing managers. Nowadays 351 teachers including 86 Doctors of Medicine and 212 Candidates of Medicine provide a high level of  teaching process at 52 departments and 28 clinical bases of the academy. Over 2800 students study at the academy including the foreign ones.\n",
        "\n",
        "The academy has been training international students since 1988. Students from 113 states of the former Soviet Union, Europe, Asia, Latin America and Africa have studied at our academy. Over this period 3000 physicians, dentists and paediatricians have been trained for foreign countries.\n",
        "\n",
        "Much is done to organize international exchanges for students and young doctors. The academy has general agreements of educational and scientific cooperation with the University of Pecs, CVI, Semmelweis University (Hungary), Medical University of Silesia (Poland), Oulton instituto de diagnostico y tratamiento (Argentina), Aristotle University of Thesaloniki (Greece), Novi Sad University (Serbia), Belarus State Medical University (The Republic of Belarus), University of Sarajevo (Bosnia and Herzegovina), Ivanovo-Frankovsk State Medical University (Ukraine), Samarkand Medical Institute (Uzbekistan) and others. During 25 years more than 300 students from Italy, Germany, Turkey, Yugoslavia, Spain, Finland, Denmark, Macedonia, etc. participated in externships at the academy. In its turn more than700 students and young scientists of Izhevsk State Medical Academy participated in externship in other countries.\n",
        "\n",
        "\tDear friends!\n",
        "Izhevsk State Medical Academy is one of the famous centers of medical education and science with long and glorious history. Studying at the Medical Academy is much more difficult than in other universities, because the future doctor simply cannot allow himself not to know or understand something.We are proud of our teachers, graduates and highly skilled professionals who successfully work for the benefit of medical science and practical healthcare. To be worthy of our history we are working hard every day and are optimistic about our future.High professionalism of our staff, the development of effective medical, educational and social technologies, new scientific studies are all the keys  to the successful work for the benefit of the society and that is the most important mission of Izhevsk State Medical Academy.\n",
        "Rector of Izhevsk State Medical Academy,\n",
        "\"\"\""
      ],
      "metadata": {
        "id": "5dIO4T4cnrd7"
      },
      "execution_count": 305,
      "outputs": []
    },
    {
      "cell_type": "code",
      "source": [
        "text = textStringEn\n",
        "res = calc_readability_metrics_en(text)\n",
        "print(json.dumps(res, indent=4))\n",
        "\n",
        "if round(res['index_flk']) in GRADE_TEXT:\n",
        "    fkMsg = GRADE_TEXT[round(res['index_flk'])]\n",
        "elif round(res['index_flk']) > 17:\n",
        "    fkMsg = POST_GRADE_TEXT_18_24\n",
        "\n",
        "flashMsg = ''\n",
        "for boarder in FLASH_BOARDERS:\n",
        "    if res['index_fl'] > boarder['min'] and res['index_fl'] < boarder['max']:\n",
        "        flashMsg = boarder['text']\n",
        "\n",
        "print(\"Flasch level: \" + flashMsg)\n",
        "print(\"Flasch-Kincaid Grade level: \" + fkMsg)"
      ],
      "metadata": {
        "colab": {
          "base_uri": "https://localhost:8080/"
        },
        "id": "z-UfRZv4i2JA",
        "outputId": "1a1286ec-fe86-4b93-e116-1d5e2c165258"
      },
      "execution_count": 306,
      "outputs": [
        {
          "output_type": "stream",
          "name": "stdout",
          "text": [
            "{\n",
            "    \"c_share\": 31.407035175879397,\n",
            "    \"avg_slen\": 19.9,\n",
            "    \"avg_syl\": 2.020100502512563,\n",
            "    \"n_syllabes\": 804,\n",
            "    \"n_words\": 398,\n",
            "    \"n_sentences\": 20,\n",
            "    \"n_complex_words\": 125,\n",
            "    \"n_simple_words\": 273,\n",
            "    \"chars\": 2697,\n",
            "    \"letters\": 2187,\n",
            "    \"spaces\": 394,\n",
            "    \"index_fl\": 15.735997487437203,\n",
            "    \"index_flk\": 16.008185929648242,\n",
            "    \"index_dc\": 5.9462108542713565,\n",
            "    \"index_gf\": 20.52281407035176,\n",
            "    \"index_SMOG\": 17.410965686947208\n",
            "}\n",
            "Flasch level: College graduate\tVery difficult to read. Best understood by university graduates.\n",
            "Flasch-Kincaid Grade level: 4 - 6 курсы ВУЗа (возраст примерно: 20-22 лет)\n"
          ]
        }
      ]
    }
  ]
}